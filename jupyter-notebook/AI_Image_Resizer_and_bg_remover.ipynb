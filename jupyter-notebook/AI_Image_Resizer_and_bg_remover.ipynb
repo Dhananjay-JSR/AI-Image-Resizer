{
  "nbformat": 4,
  "nbformat_minor": 0,
  "metadata": {
    "colab": {
      "name": "AI-Image-Resizer-and-bg-remover.ipynb",
      "provenance": [],
      "collapsed_sections": []
    },
    "kernelspec": {
      "name": "python3",
      "display_name": "Python 3"
    },
    "language_info": {
      "name": "python"
    }
  },
  "cells": [
    {
      "cell_type": "markdown",
      "metadata": {
        "id": "dVYO906QjjqR"
      },
      "source": [
        "**START BY REMOVING CONFLICTING FILES FROM VM** ( type Y when prompted )"
      ]
    },
    {
      "cell_type": "code",
      "metadata": {
        "id": "XlSD7bm2jfwW"
      },
      "source": [
        "!pip uninstall opencv-contrib-python\n",
        "!pip uninstall numpy"
      ],
      "execution_count": null,
      "outputs": []
    },
    {
      "cell_type": "markdown",
      "metadata": {
        "id": "Mx9FwkPXj9hg"
      },
      "source": [
        "\n",
        "**START CLONING MY REPOSITORY **"
      ]
    },
    {
      "cell_type": "code",
      "metadata": {
        "id": "txt-MrjyjzOw"
      },
      "source": [
        "!git clone https://github.com/Dhananjay-JSR/AI-Image-Resizer-and-bg-remover.git\n"
      ],
      "execution_count": null,
      "outputs": []
    },
    {
      "cell_type": "code",
      "metadata": {
        "id": "oDPkvgvRzmqG"
      },
      "source": [
        "cd AI-Image-Resizer-and-bg-remover/"
      ],
      "execution_count": null,
      "outputs": []
    },
    {
      "cell_type": "markdown",
      "metadata": {
        "id": "i_vwcaFMve6h"
      },
      "source": [
        "IF YOU RECEIVE AN ERROR MSG THAT MEANS YOU FORGOT TO USE GPU IN RUNTIME ENVIRONMENT , (TURN IT ON FROM SETTINGS BY GOING INTO Runtime - Change Runtime type and Selecting GPU from Dropdown)\n"
      ]
    },
    {
      "cell_type": "code",
      "metadata": {
        "id": "00_GcC_trpdE"
      },
      "source": [
        "import torch\n",
        "if torch.cuda.is_available():\n",
        "   print('YOU ARE GOOD TO GO ON NEXT STEP')\n",
        "if not torch.cuda.is_available():\n",
        "    print('GPU not available.')"
      ],
      "execution_count": null,
      "outputs": []
    },
    {
      "cell_type": "markdown",
      "metadata": {
        "id": "G2dsEWIJlkxW"
      },
      "source": [
        "SATISFY REQUIREMENTS  ( Restart Runtime if required )"
      ]
    },
    {
      "cell_type": "code",
      "metadata": {
        "id": "4RDXBZ3Rlz2r"
      },
      "source": [
        "!pip install -r requirement.txt"
      ],
      "execution_count": null,
      "outputs": []
    },
    {
      "cell_type": "markdown",
      "metadata": {
        "id": "qyCF4W8Wla1E"
      },
      "source": [
        "RUN THIS TO INITIALIZE MACHINE AND HEADER CODE"
      ]
    },
    {
      "cell_type": "code",
      "metadata": {
        "id": "bS2XmWaB1iZQ"
      },
      "source": [
        "cd AI-Image-Resizer-and-bg-remover/"
      ],
      "execution_count": null,
      "outputs": []
    },
    {
      "cell_type": "markdown",
      "metadata": {
        "id": "uPQu6RCWmLKy"
      },
      "source": [
        "Upload Image ( Remember the file name )"
      ]
    },
    {
      "cell_type": "code",
      "metadata": {
        "id": "vamXnd4smQgv"
      },
      "source": [
        "from google.colab import files\n",
        "uploaded = files.upload()"
      ],
      "execution_count": null,
      "outputs": []
    },
    {
      "cell_type": "code",
      "metadata": {
        "id": "78P-ex8Lj9Fg"
      },
      "source": [
        "!python setup.py"
      ],
      "execution_count": null,
      "outputs": []
    },
    {
      "cell_type": "markdown",
      "metadata": {
        "id": "xZYU0UKOmVnd"
      },
      "source": [
        "Insert File name here ( with image extension)"
      ]
    },
    {
      "cell_type": "code",
      "metadata": {
        "id": "v0Lnd4uEmXf8"
      },
      "source": [
        "image_name = 'zti.png' #@param {type:\"string\"}\n",
        "\n",
        "if image_name is not None and image_name !='':\n",
        "  image = cv2.imread(image_name)"
      ],
      "execution_count": null,
      "outputs": []
    },
    {
      "cell_type": "markdown",
      "metadata": {
        "id": "SfpACzfhm6UA"
      },
      "source": [
        "Reading Pre-Trained Image"
      ]
    },
    {
      "cell_type": "code",
      "metadata": {
        "id": "HLI-3ZPam6GC"
      },
      "source": [
        "path = \"models/EDSR_x4.pb\"\n",
        "sr.readModel(path)"
      ],
      "execution_count": null,
      "outputs": []
    },
    {
      "cell_type": "markdown",
      "metadata": {
        "id": "0aZN-nPWnFmv"
      },
      "source": [
        "Start GPU Prefetching"
      ]
    },
    {
      "cell_type": "code",
      "metadata": {
        "id": "1YP0PuWsnQg8"
      },
      "source": [
        "sr.setPreferableBackend(cv2.dnn.DNN_BACKEND_CUDA)\n",
        "sr.setPreferableTarget(cv2.dnn.DNN_TARGET_CUDA)"
      ],
      "execution_count": null,
      "outputs": []
    },
    {
      "cell_type": "markdown",
      "metadata": {
        "id": "xirwByblnUiQ"
      },
      "source": [
        "JUST RUN THE CODE WITHOUT MODIFING VALUES"
      ]
    },
    {
      "cell_type": "code",
      "metadata": {
        "id": "ap07BHFQnN2v"
      },
      "source": [
        "sr.setModel(\"edsr\", 2)"
      ],
      "execution_count": null,
      "outputs": []
    },
    {
      "cell_type": "markdown",
      "metadata": {
        "id": "lMYy3OKxnhK3"
      },
      "source": [
        "Run Code and wait for some time ( You may Grab Some Coffee in meantime :P)"
      ]
    },
    {
      "cell_type": "code",
      "metadata": {
        "id": "LoAznG81nT1Z"
      },
      "source": [
        "result = sr.upsample(image)"
      ],
      "execution_count": null,
      "outputs": []
    },
    {
      "cell_type": "markdown",
      "metadata": {
        "id": "mp-mZfbrns0Y"
      },
      "source": [
        "Save File with desire name don't forget to add .png in last or the command will not work"
      ]
    },
    {
      "cell_type": "code",
      "metadata": {
        "id": "yhBpSuoQnyA1"
      },
      "source": [
        "x = 'final' #@param {type:\"string\"}\n",
        "y=\".png\"\n",
        "print(\"File will be saved as\")\n",
        "z=x+y\n",
        "print(z)\n",
        "cv2.imwrite(z, result)"
      ],
      "execution_count": null,
      "outputs": []
    },
    {
      "cell_type": "markdown",
      "metadata": {
        "id": "nu9dXDXKomoW"
      },
      "source": [
        "Download File ( if you receive TRUE as Final Result Hurray You file is successfully processed"
      ]
    },
    {
      "cell_type": "code",
      "metadata": {
        "id": "9o5WyjymoNwp"
      },
      "source": [
        "from google.colab import files\n",
        "files.download(z) "
      ],
      "execution_count": null,
      "outputs": []
    },
    {
      "cell_type": "markdown",
      "metadata": {
        "id": "fQb4zTwYwKlP"
      },
      "source": [
        "________________________________________________"
      ]
    }
  ]
}